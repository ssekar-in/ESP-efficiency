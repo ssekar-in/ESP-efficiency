{
 "cells": [
  {
   "cell_type": "code",
   "execution_count": null,
   "metadata": {},
   "outputs": [],
   "source": [
    "# %load esp_conf_efficiency.py\n",
    "from esp_eff import efficiency\n",
    "from esp_conf import esp_con\n",
    "import click\n",
    "\n",
    "sca1 = esp_con()\n",
    "wk = click.prompt(\"wk=\", type=float, default=.18)\n",
    "\n",
    "print(\"sca=\", sca1, \"efficiency = \", efficiency(wk, sca1))\n",
    "\n"
   ]
  },
  {
   "cell_type": "code",
   "execution_count": 3,
   "metadata": {},
   "outputs": [
    {
     "name": "stdout",
     "output_type": "stream",
     "text": [
      "no of esps [1]: 2\n",
      "no of passes per esp [1]: 2\n",
      "no ducts per pass [20]: \n",
      " duct width [0.3]: \n",
      "series sections [5]: 8\n",
      "length of section [3.6]: \n",
      "height of section [15]: \n",
      "total flow, actual m3/s [100.0]: 400\n",
      "TCA= 69120.0 velocity = 1.1111111111111112 SCA=  172.8\n",
      "wk= [0.18]: \n",
      "sca= 172.8 efficiency =  0.9962164630982435\n"
     ]
    }
   ],
   "source": [
    "%run esp_conf_efficiency.py\n"
   ]
  },
  {
   "cell_type": "code",
   "execution_count": null,
   "metadata": {},
   "outputs": [],
   "source": []
  }
 ],
 "metadata": {
  "kernelspec": {
   "display_name": "Python 3.8.2 64-bit",
   "language": "python",
   "name": "python38264bitfc3e8023f0614480b3bcd179dd7f06ca"
  },
  "language_info": {
   "codemirror_mode": {
    "name": "ipython",
    "version": 3
   },
   "file_extension": ".py",
   "mimetype": "text/x-python",
   "name": "python",
   "nbconvert_exporter": "python",
   "pygments_lexer": "ipython3",
   "version": "3.8.2"
  }
 },
 "nbformat": 4,
 "nbformat_minor": 4
}
