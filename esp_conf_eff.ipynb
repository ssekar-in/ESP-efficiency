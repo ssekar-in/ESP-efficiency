{
 "cells": [
  {
   "cell_type": "code",
   "execution_count": 2,
   "metadata": {
    "scrolled": true
   },
   "outputs": [
    {
     "name": "stdout",
     "output_type": "stream",
     "text": [
      "no of esps [1]: 2\n",
      "no of passes per esp [1]: 2\n",
      "no ducts per pass [20]: 16\n",
      "duct width [0.3]: .4\n",
      "series sections [5]: 8\n",
      "length of section [3.6]: \n",
      "height of section [15]: \n"
     ]
    }
   ],
   "source": [
    "import click\n",
    "no_esp = click.prompt(\"no of esps\", type=int, default=1)\n",
    "no_passes = click.prompt(\"no of passes per esp\", type=int, default=1)\n",
    "no_ducts = click.prompt(\"no ducts per pass\", type=int, default=20)\n",
    "duct_width = click.prompt(\"duct width\", type=float, default=.3)\n",
    "no_series_sections = click.prompt(\"series sections\", type=int, default=5)\n",
    "length = click.prompt(\"length of section\", type=float, default=3.6)\n",
    "height = click.prompt(\"height of section\", type=float, default=15)"
   ]
  },
  {
   "cell_type": "code",
   "execution_count": 3,
   "metadata": {},
   "outputs": [
    {
     "name": "stdout",
     "output_type": "stream",
     "text": [
      "total flow, actual m3/s [100.0]: 400\n",
      "TCA= 55296.0 velocity = 1.0416666666666667 SCA=  138.24\n"
     ]
    }
   ],
   "source": [
    "area_per_section = no_ducts * 2 * length * height\n",
    "total_coll_area = area_per_section * no_series_sections * no_passes * no_esp\n",
    "cross_section = height * no_ducts * duct_width\n",
    "total_cross_section = cross_section * no_passes * no_esp\n",
    "flow = click.prompt(\"total flow, actual m3/s\", type=float, default=100.)\n",
    "sca  = total_coll_area / flow\n",
    "velocity = flow / total_cross_section\n",
    "print(\"TCA=\", total_coll_area, \"velocity =\", velocity, \"SCA= \", sca)\n",
    "\n"
   ]
  },
  {
   "cell_type": "code",
   "execution_count": 4,
   "metadata": {},
   "outputs": [
    {
     "name": "stdout",
     "output_type": "stream",
     "text": [
      "wk= [0.18]: .22\n",
      "sca= 138.24 efficiency =  0.9959731874265692\n"
     ]
    }
   ],
   "source": [
    "from esp_eff import efficiency\n",
    "wk = click.prompt(\"wk=\", type=float, default=.18)\n",
    "\n",
    "print(\"sca=\", sca, \"efficiency = \", efficiency(wk, sca))"
   ]
  },
  {
   "cell_type": "code",
   "execution_count": 7,
   "metadata": {},
   "outputs": [
    {
     "name": "stdout",
     "output_type": "stream",
     "text": [
      "wk= [0.04]: .05\n",
      "sca= 138.24 efficiency =  0.9990042357249227\n"
     ]
    }
   ],
   "source": [
    "from efficiency_wm import efficiency_wm as eff\n",
    "wk = click.prompt(\"wk=\", type=float, default=0.04)\n",
    "\n",
    "print(\"sca=\", sca, \"efficiency = \", eff(wk, sca))"
   ]
  },
  {
   "cell_type": "code",
   "execution_count": null,
   "metadata": {},
   "outputs": [],
   "source": []
  }
 ],
 "metadata": {
  "kernelspec": {
   "display_name": "Python 3.8.2 64-bit",
   "language": "python",
   "name": "python38264bitfc3e8023f0614480b3bcd179dd7f06ca"
  },
  "language_info": {
   "codemirror_mode": {
    "name": "ipython",
    "version": 3
   },
   "file_extension": ".py",
   "mimetype": "text/x-python",
   "name": "python",
   "nbconvert_exporter": "python",
   "pygments_lexer": "ipython3",
   "version": "3.8.2"
  }
 },
 "nbformat": 4,
 "nbformat_minor": 4
}
