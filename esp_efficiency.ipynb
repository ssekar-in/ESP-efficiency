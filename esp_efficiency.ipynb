{
 "cells": [
  {
   "cell_type": "markdown",
   "id": "ca6c10c7",
   "metadata": {},
   "source": [
    "## This is a trial for using class in ESP efficiency calc"
   ]
  },
  {
   "cell_type": "code",
   "execution_count": 2,
   "id": "d0d11cca",
   "metadata": {},
   "outputs": [],
   "source": [
    "import numpy as np\n",
    "import matplotlib.pyplot as plt\n",
    "import math"
   ]
  },
  {
   "cell_type": "code",
   "execution_count": 66,
   "id": "d02a5eb4",
   "metadata": {},
   "outputs": [],
   "source": [
    "class esp_eff:\n",
    "    def __init__(self, sr=6, pl=4, pitch=.3, ht=15, len=3.6, \\\n",
    "                 ducts = 12, wk = .19, q = 350, sca = 100):\n",
    "        self.sr = sr\n",
    "        self.pl = pl\n",
    "        self.pitch = pitch\n",
    "        self.ht = ht\n",
    "        self.ducts = ducts\n",
    "        self.wk =wk\n",
    "        self.len = 3.6\n",
    "        self.q = q\n",
    "        \n",
    "    def area(self):\n",
    "        fld_area = self.ducts*2*self.ht*self.len\n",
    "        tca = fld_area* self.sr*self.pl\n",
    "        self.sca = tca/self.q\n",
    "        print('sr = ', self.sr, ', pl = ', self.pl, ', pitch = ', self.pitch, \\\n",
    "             '\\nht = ', self.ht, ', duct = ', self.ducts, ', wk =', self.wk ,\\\n",
    "             '\\nlen = ', self.len, ', Q= ', self.q)\n",
    "        print('field area = %.0f' % fld_area, 'tca = %.1f' % tca, \\\n",
    "              'sca = % .1f' % self.sca)\n",
    "    \n",
    "    def eff_wk(self):\n",
    "        eff_wk = (1 - math.exp(-math.sqrt(self.wk * self.sca))) *100\n",
    "        print('efficiency_wk percent = %.4f ' % eff_wk )                      \n",
    "        "
   ]
  },
  {
   "cell_type": "code",
   "execution_count": 67,
   "id": "a07028cd",
   "metadata": {},
   "outputs": [
    {
     "name": "stdout",
     "output_type": "stream",
     "text": [
      "sr =  6 , pl =  4 , pitch =  0.3 \n",
      "ht =  15 , duct =  12 , wk = 0.19 \n",
      "len =  3.6 , Q=  350\n",
      "field area = 1296 tca = 31104.0 sca =  88.9\n",
      "efficiency_wk percent = 98.3578 \n"
     ]
    }
   ],
   "source": [
    "esp1 = esp_eff()\n",
    "esp1.area()\n",
    "esp1.eff_wk()"
   ]
  },
  {
   "cell_type": "code",
   "execution_count": 68,
   "id": "4042498f",
   "metadata": {},
   "outputs": [
    {
     "name": "stdout",
     "output_type": "stream",
     "text": [
      "sr =  6 , pl =  4 , pitch =  0.3 \n",
      "ht =  15 , duct =  14 , wk = 0.19 \n",
      "len =  3.6 , Q=  350\n",
      "field area = 1512 tca = 36288.0 sca =  103.7\n",
      "efficiency_wk percent = 98.8185 \n"
     ]
    }
   ],
   "source": [
    "esp2 = esp_eff(ducts=14)\n",
    "esp2.area()\n",
    "esp2.eff_wk()"
   ]
  },
  {
   "cell_type": "code",
   "execution_count": 73,
   "id": "3e454b8f",
   "metadata": {},
   "outputs": [
    {
     "name": "stdout",
     "output_type": "stream",
     "text": [
      "sr =  6 , pl =  4 , pitch =  0.3 \n",
      "ht =  15 , duct =  14 , wk = 0.18 \n",
      "len =  3.6 , Q=  350\n",
      "field area = 1512 tca = 36288.0 sca =  103.7\n",
      "efficiency_wk percent = 98.6700 \n"
     ]
    }
   ],
   "source": [
    "esp2 = esp_eff(ducts=14,wk=0.18, q= 350)\n",
    "esp2.area()\n",
    "esp2.eff_wk()"
   ]
  },
  {
   "cell_type": "code",
   "execution_count": null,
   "id": "c86c54ce",
   "metadata": {},
   "outputs": [],
   "source": []
  }
 ],
 "metadata": {
  "kernelspec": {
   "display_name": "Python 3",
   "language": "python",
   "name": "python3"
  },
  "language_info": {
   "codemirror_mode": {
    "name": "ipython",
    "version": 3
   },
   "file_extension": ".py",
   "mimetype": "text/x-python",
   "name": "python",
   "nbconvert_exporter": "python",
   "pygments_lexer": "ipython3",
   "version": "3.8.8"
  }
 },
 "nbformat": 4,
 "nbformat_minor": 5
}
